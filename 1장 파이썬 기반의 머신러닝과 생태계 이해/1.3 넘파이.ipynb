{
 "cells": [
  {
   "cell_type": "code",
   "execution_count": 58,
   "id": "adff936f",
   "metadata": {},
   "outputs": [],
   "source": [
    "import numpy as np"
   ]
  },
  {
   "cell_type": "code",
   "execution_count": 59,
   "id": "1326c577",
   "metadata": {},
   "outputs": [
    {
     "name": "stdout",
     "output_type": "stream",
     "text": [
      "list type:  <class 'list'>\n",
      "<class 'numpy.ndarray'>\n",
      "[1 2 3]\n",
      "(3,)\n"
     ]
    }
   ],
   "source": [
    "list1 = [1,2,3]\n",
    "print('list type: ', type(list1))\n",
    "array1 = np.array(list1)\n",
    "print(type(array1))\n",
    "print(array1)\n",
    "print(array1.shape)"
   ]
  },
  {
   "cell_type": "code",
   "execution_count": 60,
   "id": "f2caacb7",
   "metadata": {},
   "outputs": [
    {
     "name": "stdout",
     "output_type": "stream",
     "text": [
      "[[1 2 3]\n",
      " [2 3 4]]\n",
      "(2, 3)\n"
     ]
    }
   ],
   "source": [
    "array2 = np.array([[1,2,3,],\n",
    "                  [2,3,4]])\n",
    "print(array2)\n",
    "print(array2.shape)"
   ]
  },
  {
   "cell_type": "code",
   "execution_count": 61,
   "id": "d106dede",
   "metadata": {},
   "outputs": [
    {
     "name": "stdout",
     "output_type": "stream",
     "text": [
      "(1, 3)\n"
     ]
    }
   ],
   "source": [
    "array3 = np.array([[1,2,3]])\n",
    "print(array3.shape)"
   ]
  },
  {
   "cell_type": "code",
   "execution_count": 62,
   "id": "a52dfb20",
   "metadata": {},
   "outputs": [
    {
     "name": "stdout",
     "output_type": "stream",
     "text": [
      "1\n",
      "2\n",
      "2\n"
     ]
    }
   ],
   "source": [
    "print(array1.ndim)\n",
    "print(array2.ndim)\n",
    "print(array3.ndim)"
   ]
  },
  {
   "cell_type": "markdown",
   "id": "ad7b2617",
   "metadata": {},
   "source": [
    "ndarray의 데이터 타입"
   ]
  },
  {
   "cell_type": "code",
   "execution_count": 12,
   "id": "d3c48ff6",
   "metadata": {},
   "outputs": [
    {
     "name": "stdout",
     "output_type": "stream",
     "text": [
      "<class 'list'>\n",
      "<class 'numpy.ndarray'>\n",
      "[1 2 3] int32\n"
     ]
    }
   ],
   "source": [
    "list1 = [1,2,3]\n",
    "print(type(list1))\n",
    "array1 = np.array(list1)\n",
    "print(type(array1))\n",
    "print(array1, array1.dtype)"
   ]
  },
  {
   "cell_type": "code",
   "execution_count": 13,
   "id": "fd471c0c",
   "metadata": {},
   "outputs": [
    {
     "name": "stdout",
     "output_type": "stream",
     "text": [
      "['1' '2' 'test'] <U11\n"
     ]
    }
   ],
   "source": [
    "list2 = [1,2,'test']\n",
    "array2 = np.array(list2)\n",
    "print(array2, array2.dtype)"
   ]
  },
  {
   "cell_type": "code",
   "execution_count": 14,
   "id": "db12b656",
   "metadata": {},
   "outputs": [
    {
     "name": "stdout",
     "output_type": "stream",
     "text": [
      "[1. 2. 3.] float64\n"
     ]
    }
   ],
   "source": [
    "list3 = [1,2,3.0]\n",
    "array3 = np.array(list3)\n",
    "print(array3, array3.dtype)"
   ]
  },
  {
   "cell_type": "code",
   "execution_count": 15,
   "id": "5ff54cb5",
   "metadata": {},
   "outputs": [
    {
     "name": "stdout",
     "output_type": "stream",
     "text": [
      "[1. 2. 3.] float64\n"
     ]
    }
   ],
   "source": [
    "array_int = np.array([1,2,3])\n",
    "array_float = array_int.astype('float64')\n",
    "print(array_float, array_float.dtype)\n"
   ]
  },
  {
   "cell_type": "code",
   "execution_count": 16,
   "id": "01a684f3",
   "metadata": {},
   "outputs": [
    {
     "name": "stdout",
     "output_type": "stream",
     "text": [
      "[1 2 3] int32\n"
     ]
    }
   ],
   "source": [
    "array_int1 = array_float.astype('int32')\n",
    "print(array_int1, array_int1.dtype)"
   ]
  },
  {
   "cell_type": "code",
   "execution_count": 17,
   "id": "18abd491",
   "metadata": {},
   "outputs": [
    {
     "name": "stdout",
     "output_type": "stream",
     "text": [
      "[1 2 3] int32\n"
     ]
    }
   ],
   "source": [
    "array_float1 = np.array([1.1, 2.1, 3.1])\n",
    "array_int2 = array_float1.astype('int32')\n",
    "print(array_int2, array_int2.dtype)"
   ]
  },
  {
   "cell_type": "markdown",
   "id": "ff5f5268",
   "metadata": {},
   "source": [
    "ndarray를 편리하게 생성하기-arange,zeros,ones"
   ]
  },
  {
   "cell_type": "code",
   "execution_count": 18,
   "id": "fd10a6cb",
   "metadata": {},
   "outputs": [
    {
     "name": "stdout",
     "output_type": "stream",
     "text": [
      "[0 1 2 3 4 5 6 7 8 9]\n",
      "int32 (10,)\n"
     ]
    }
   ],
   "source": [
    "sequence_array = np.arange(10)\n",
    "print(sequence_array)\n",
    "print(sequence_array.dtype, sequence_array.shape)"
   ]
  },
  {
   "cell_type": "code",
   "execution_count": 19,
   "id": "6644a8c7",
   "metadata": {},
   "outputs": [
    {
     "name": "stdout",
     "output_type": "stream",
     "text": [
      "[[0 0]\n",
      " [0 0]\n",
      " [0 0]]\n",
      "int32 (3, 2)\n"
     ]
    }
   ],
   "source": [
    "#(3,2) shape를 가지는 모든 원소가 0, dtype은 int32인 ndarray 생성\n",
    "zero_array = np.zeros((3,2), dtype='int32')\n",
    "print(zero_array)\n",
    "print(zero_array.dtype, zero_array.shape)"
   ]
  },
  {
   "cell_type": "code",
   "execution_count": 20,
   "id": "ce7de113",
   "metadata": {},
   "outputs": [
    {
     "name": "stdout",
     "output_type": "stream",
     "text": [
      "[[1. 1.]\n",
      " [1. 1.]\n",
      " [1. 1.]]\n",
      "float64 (3, 2)\n"
     ]
    }
   ],
   "source": [
    "#(3,2) shpae를 가지는 모든 원소가 1인 ndarray 생성\n",
    "one_array = np.ones((3,2))\n",
    "print(one_array)\n",
    "print(one_array.dtype, one_array.shape)"
   ]
  },
  {
   "cell_type": "markdown",
   "id": "a5b3eabd",
   "metadata": {},
   "source": [
    "ndarray의 차원과 크기를 변경하는 reshape"
   ]
  },
  {
   "cell_type": "code",
   "execution_count": 4,
   "id": "c35a4349",
   "metadata": {},
   "outputs": [
    {
     "name": "stdout",
     "output_type": "stream",
     "text": [
      "[0 1 2 3 4 5 6 7 8 9]\n",
      "[[0 1 2 3 4]\n",
      " [5 6 7 8 9]]\n",
      "[[0 1]\n",
      " [2 3]\n",
      " [4 5]\n",
      " [6 7]\n",
      " [8 9]]\n"
     ]
    }
   ],
   "source": [
    "array1 = np.arange(10)\n",
    "print(array1)\n",
    "\n",
    "#(2,5) shape로 변환\n",
    "array2 = array1.reshape(2, 5)\n",
    "print(array2)\n",
    "\n",
    "#(5,2) shape로 변환\n",
    "array3 = array1.reshape(5,2)\n",
    "print(array3)"
   ]
  },
  {
   "cell_type": "code",
   "execution_count": 5,
   "id": "3923d088",
   "metadata": {},
   "outputs": [
    {
     "ename": "ValueError",
     "evalue": "cannot reshape array of size 10 into shape (4,3)",
     "output_type": "error",
     "traceback": [
      "\u001b[1;31m---------------------------------------------------------------------------\u001b[0m",
      "\u001b[1;31mValueError\u001b[0m                                Traceback (most recent call last)",
      "Cell \u001b[1;32mIn[5], line 1\u001b[0m\n\u001b[1;32m----> 1\u001b[0m \u001b[43marray1\u001b[49m\u001b[38;5;241;43m.\u001b[39;49m\u001b[43mreshape\u001b[49m\u001b[43m(\u001b[49m\u001b[38;5;241;43m4\u001b[39;49m\u001b[43m,\u001b[49m\u001b[38;5;241;43m3\u001b[39;49m\u001b[43m)\u001b[49m\n",
      "\u001b[1;31mValueError\u001b[0m: cannot reshape array of size 10 into shape (4,3)"
     ]
    }
   ],
   "source": [
    "array1.reshape(4,3)"
   ]
  },
  {
   "cell_type": "code",
   "execution_count": 6,
   "id": "a309c35e",
   "metadata": {},
   "outputs": [
    {
     "name": "stdout",
     "output_type": "stream",
     "text": [
      "[0 1 2 3 4 5 6 7 8 9]\n",
      "(2, 5)\n",
      "(5, 2)\n"
     ]
    }
   ],
   "source": [
    "array1 = np.arange(10)\n",
    "print(array1)\n",
    "\n",
    "array2 = array1.reshape(-1, 5)\n",
    "print(array2.shape)\n",
    "\n",
    "array3 = array1.reshape(5, -1)\n",
    "print(array3.shape)"
   ]
  },
  {
   "cell_type": "code",
   "execution_count": 26,
   "id": "f761df8e",
   "metadata": {},
   "outputs": [
    {
     "ename": "ValueError",
     "evalue": "cannot reshape array of size 10 into shape (4)",
     "output_type": "error",
     "traceback": [
      "\u001b[1;31m---------------------------------------------------------------------------\u001b[0m",
      "\u001b[1;31mValueError\u001b[0m                                Traceback (most recent call last)",
      "\u001b[1;32m<ipython-input-26-474c3d9b15cb>\u001b[0m in \u001b[0;36m<module>\u001b[1;34m\u001b[0m\n\u001b[0;32m      1\u001b[0m \u001b[0marray1\u001b[0m \u001b[1;33m=\u001b[0m \u001b[0mnp\u001b[0m\u001b[1;33m.\u001b[0m\u001b[0marange\u001b[0m\u001b[1;33m(\u001b[0m\u001b[1;36m10\u001b[0m\u001b[1;33m)\u001b[0m\u001b[1;33m\u001b[0m\u001b[1;33m\u001b[0m\u001b[0m\n\u001b[1;32m----> 2\u001b[1;33m \u001b[0marray4\u001b[0m \u001b[1;33m=\u001b[0m \u001b[0marray1\u001b[0m\u001b[1;33m.\u001b[0m\u001b[0mreshape\u001b[0m\u001b[1;33m(\u001b[0m\u001b[1;33m-\u001b[0m\u001b[1;36m1\u001b[0m\u001b[1;33m,\u001b[0m \u001b[1;36m4\u001b[0m\u001b[1;33m)\u001b[0m\u001b[1;33m\u001b[0m\u001b[1;33m\u001b[0m\u001b[0m\n\u001b[0m",
      "\u001b[1;31mValueError\u001b[0m: cannot reshape array of size 10 into shape (4)"
     ]
    }
   ],
   "source": [
    "array1 = np.arange(10)\n",
    "array4 = array1.reshape(-1, 4)"
   ]
  },
  {
   "cell_type": "code",
   "execution_count": 27,
   "id": "beadf3ec",
   "metadata": {},
   "outputs": [
    {
     "name": "stdout",
     "output_type": "stream",
     "text": [
      "[[[0, 1], [2, 3]], [[4, 5], [6, 7]]]\n"
     ]
    }
   ],
   "source": [
    "array1 = np.arange(8)\n",
    "array3d = array1.reshape((2,2,2))\n",
    "print(array3d.tolist())"
   ]
  },
  {
   "cell_type": "code",
   "execution_count": 30,
   "id": "30761938",
   "metadata": {},
   "outputs": [
    {
     "name": "stdout",
     "output_type": "stream",
     "text": [
      "[[0], [1], [2], [3], [4], [5], [6], [7]]\n",
      "[[0]\n",
      " [1]\n",
      " [2]\n",
      " [3]\n",
      " [4]\n",
      " [5]\n",
      " [6]\n",
      " [7]]\n"
     ]
    }
   ],
   "source": [
    "#3차원 ndarray를 2차원 ndarray로 변환하되 칼럼 갯수는 1개\n",
    "array5 = array3d.reshape(-1,1)\n",
    "print(array5.tolist())\n",
    "print(array5)"
   ]
  },
  {
   "cell_type": "code",
   "execution_count": 32,
   "id": "70f3bb23",
   "metadata": {},
   "outputs": [
    {
     "name": "stdout",
     "output_type": "stream",
     "text": [
      "[[0], [1], [2], [3], [4], [5], [6], [7]]\n",
      "(8, 1)\n"
     ]
    }
   ],
   "source": [
    "#1차원 ndarray를 2차원 ndarray로 변환하되 칼럼 갯수는 1개\n",
    "array6 = array1.reshape(-1,1)\n",
    "print(array6.tolist())\n",
    "print(array6.shape)"
   ]
  },
  {
   "cell_type": "code",
   "execution_count": 33,
   "id": "46a82f8b",
   "metadata": {},
   "outputs": [
    {
     "name": "stdout",
     "output_type": "stream",
     "text": [
      "[0 1 2 3 4 5 6 7]\n"
     ]
    }
   ],
   "source": [
    "#3차원 array를 1차원으로 변환\n",
    "array1d = array3d.reshape(-1,)\n",
    "print(array1d)"
   ]
  },
  {
   "cell_type": "markdown",
   "id": "f66a06fa",
   "metadata": {},
   "source": [
    "인덱싱"
   ]
  },
  {
   "cell_type": "code",
   "execution_count": 10,
   "id": "7df357dc",
   "metadata": {},
   "outputs": [
    {
     "name": "stdout",
     "output_type": "stream",
     "text": [
      "array1: [1 2 3 4 5 6 7 8 9]\n",
      "value: 3\n",
      "<class 'numpy.int32'>\n"
     ]
    }
   ],
   "source": [
    "# 1부터 9까지의 1차원 ndarray 생성\n",
    "array1 = np.arange(start=1, stop=10)\n",
    "print('array1:', array1)\n",
    "\n",
    "# index는 0부터 시작하므로 array1[2]는 3번째 index 위치의 데이터값을 의미\n",
    "value = array1[2]\n",
    "print('value:', value)\n",
    "print(type(value))"
   ]
  },
  {
   "cell_type": "code",
   "execution_count": 11,
   "id": "d0bef892",
   "metadata": {},
   "outputs": [
    {
     "name": "stdout",
     "output_type": "stream",
     "text": [
      "맨 뒤의 값: 9, 맨 뒤에서 두 번째 값: 8\n"
     ]
    }
   ],
   "source": [
    "print(f'맨 뒤의 값: {array1[-1]}, 맨 뒤에서 두 번째 값: {array1[-2]}')"
   ]
  },
  {
   "cell_type": "code",
   "execution_count": 12,
   "id": "97b60f60",
   "metadata": {},
   "outputs": [
    {
     "name": "stdout",
     "output_type": "stream",
     "text": [
      "[9 2 3 4 5 6 7 8 0]\n"
     ]
    }
   ],
   "source": [
    "# 수정\n",
    "array1[0] = 9\n",
    "array1[8] = 0\n",
    "print(array1)"
   ]
  },
  {
   "cell_type": "code",
   "execution_count": 15,
   "id": "d80262c9",
   "metadata": {},
   "outputs": [
    {
     "name": "stdout",
     "output_type": "stream",
     "text": [
      "[[1 2 3]\n",
      " [4 5 6]\n",
      " [7 8 9]]\n",
      "(row=0, col=0), index 가리키는 값: 1\n",
      "(row=0, col=1), index 가리키는 값: 2\n",
      "(row=1, col=0), index 가리키는 값: 4\n",
      "(row=2, col=2), index 가리키는 값: 9\n"
     ]
    }
   ],
   "source": [
    "# 다차원\n",
    "array1d = np.arange(start=1, stop=10)\n",
    "array2d = array1d.reshape(3, 3)\n",
    "print(array2d)\n",
    "\n",
    "print(f'(row=0, col=0), index 가리키는 값: {array2d[0, 0]}')\n",
    "print(f'(row=0, col=1), index 가리키는 값: {array2d[0, 1]}')\n",
    "print(f'(row=1, col=0), index 가리키는 값: {array2d[1, 0]}')\n",
    "print(f'(row=2, col=2), index 가리키는 값: {array2d[2, 2]}')"
   ]
  },
  {
   "cell_type": "markdown",
   "id": "38a4e9ab",
   "metadata": {},
   "source": [
    "슬라이드 인덱싱"
   ]
  },
  {
   "cell_type": "code",
   "execution_count": 16,
   "id": "5f57e696",
   "metadata": {},
   "outputs": [
    {
     "name": "stdout",
     "output_type": "stream",
     "text": [
      "[1 2 3]\n",
      "<class 'numpy.ndarray'>\n"
     ]
    }
   ],
   "source": [
    "array1 = np.arange(start=1, stop=10)\n",
    "array3 = array1[0:3]\n",
    "print(array3)\n",
    "print(type(array3))"
   ]
  },
  {
   "cell_type": "code",
   "execution_count": 13,
   "id": "c86dd675",
   "metadata": {},
   "outputs": [
    {
     "name": "stdout",
     "output_type": "stream",
     "text": [
      "[1 2 3]\n",
      "[4 5 6 7 8 9]\n",
      "[1 2 3 4 5 6 7 8 9]\n"
     ]
    }
   ],
   "source": [
    "array1 = np.arange(1, 10)\n",
    "#위치 인덱스 0-2(2 포함)추출\n",
    "array4 = array1[0:3]\n",
    "print(array4)\n",
    "#위치 인덱스 3부터 마지막까지 추출\n",
    "array5 = array1[3:]\n",
    "print(array5)\n",
    "#위치 인덱스로 전체 추출\n",
    "array6 = array1[:]\n",
    "print(array6)"
   ]
  },
  {
   "cell_type": "code",
   "execution_count": 34,
   "id": "b61d6e7e",
   "metadata": {},
   "outputs": [
    {
     "name": "stdout",
     "output_type": "stream",
     "text": [
      "array2d:\n",
      " [[1 2 3]\n",
      " [4 5 6]\n",
      " [7 8 9]]\n",
      "array2d[0:2, 0:2]:\n",
      " [[1 2]\n",
      " [4 5]]\n",
      "array2d[1:3, 0:3]:\n",
      " [[4 5 6]\n",
      " [7 8 9]]\n",
      "array2d[1:3, :]:\n",
      " [[4 5 6]\n",
      " [7 8 9]]\n",
      "array2d[:, :]:\n",
      " [[1 2 3]\n",
      " [4 5 6]\n",
      " [7 8 9]]\n",
      "array2d[:2, 1:]:\n",
      " [[2 3]\n",
      " [5 6]]\n"
     ]
    }
   ],
   "source": [
    "array1d = np.arange(start=1, stop=10)\n",
    "array2d = array1d.reshape(3, 3)\n",
    "print(f'array2d:\\n {array2d}')\n",
    "\n",
    "print(f'array2d[0:2, 0:2]:\\n {array2d[0:2, 0:2]}')\n",
    "print(f'array2d[1:3, 0:3]:\\n {array2d[1:3, 0:3]}')\n",
    "print(f'array2d[1:3, :]:\\n {array2d[1:3, :]}')\n",
    "print(f'array2d[:, :]:\\n {array2d[:, :]}')\n",
    "print(f'array2d[:2, 1:]:\\n {array2d[:2, 1:]}')"
   ]
  },
  {
   "cell_type": "markdown",
   "id": "128e0faa",
   "metadata": {},
   "source": [
    "팬시 인덱싱\n"
   ]
  },
  {
   "cell_type": "code",
   "execution_count": 38,
   "id": "966b21a2",
   "metadata": {},
   "outputs": [
    {
     "name": "stdout",
     "output_type": "stream",
     "text": [
      "array2d[[0, 1], 2] => [3, 6]\n",
      "array2d[[0, 1], 0:2] => [[1, 2], [4, 5]]\n",
      "array2d[[0, 1]] => [[1, 2, 3], [4, 5, 6]]\n"
     ]
    }
   ],
   "source": [
    "array1d = np.arange(start=1, stop=10)\n",
    "array2d = array1d.reshape(3, 3)\n",
    "\n",
    "array3 = array2d[[0, 1], 2]\n",
    "print(f'array2d[[0, 1], 2] => {array3.tolist()}')\n",
    "\n",
    "array4 = array2d[[0, 1], 0:2]\n",
    "print(f'array2d[[0, 1], 0:2] => {array4.tolist()}')\n",
    "\n",
    "array5 = array2d[[0, 1]]\n",
    "print(f'array2d[[0, 1]] => {array5.tolist()}')"
   ]
  },
  {
   "cell_type": "markdown",
   "id": "7bc85a1b",
   "metadata": {},
   "source": [
    "불린 인덱싱"
   ]
  },
  {
   "cell_type": "code",
   "execution_count": 39,
   "id": "3d83831d",
   "metadata": {},
   "outputs": [
    {
     "name": "stdout",
     "output_type": "stream",
     "text": [
      "array1d > 5 불린 인덱싱 결과 값: [6 7 8 9]\n"
     ]
    }
   ],
   "source": [
    "array1d = np.arange(start=1, stop=10)\n",
    "# [] 안에 array1d > 5 Boolean indexing 적용\n",
    "array3 = array1d[array1d > 5]\n",
    "print(f'array1d > 5 불린 인덱싱 결과 값: {array3}')"
   ]
  },
  {
   "cell_type": "code",
   "execution_count": 40,
   "id": "b3753efe",
   "metadata": {},
   "outputs": [
    {
     "data": {
      "text/plain": [
       "array([False, False, False, False, False,  True,  True,  True,  True])"
      ]
     },
     "execution_count": 40,
     "metadata": {},
     "output_type": "execute_result"
    }
   ],
   "source": [
    "array1d > 5"
   ]
  },
  {
   "cell_type": "code",
   "execution_count": 41,
   "id": "aea1b91b",
   "metadata": {},
   "outputs": [
    {
     "name": "stdout",
     "output_type": "stream",
     "text": [
      "array1d > 5 불린 인덱싱 결과 값: [6 7 8 9]\n"
     ]
    }
   ],
   "source": [
    "boolean_indexes = np.array([False, False, False, False, False,  True,  True,  True, True])\n",
    "array3 = array1d[boolean_indexes]\n",
    "print(f'array1d > 5 불린 인덱싱 결과 값: {array3}')"
   ]
  },
  {
   "cell_type": "code",
   "execution_count": 42,
   "id": "ab56fd06",
   "metadata": {},
   "outputs": [
    {
     "name": "stdout",
     "output_type": "stream",
     "text": [
      "[6 7 8 9]\n"
     ]
    }
   ],
   "source": [
    "array1d = np.arange(1, 10)\n",
    "target = []\n",
    "#불린 인덱싱을 사용하지 않을 경우\n",
    "for i in range(0, 9):\n",
    "    if array1d[i] > 5:\n",
    "        target.append(array1d[i])\n",
    "\n",
    "array_selected = np.array(target)\n",
    "print(array_selected)"
   ]
  },
  {
   "cell_type": "code",
   "execution_count": 43,
   "id": "282ba071",
   "metadata": {},
   "outputs": [
    {
     "name": "stdout",
     "output_type": "stream",
     "text": [
      "[6 7 8 9]\n"
     ]
    }
   ],
   "source": [
    "indexes = np.array([5,6,7,8])\n",
    "array4 = array1d[indexes]\n",
    "print(array4)"
   ]
  },
  {
   "cell_type": "markdown",
   "id": "5bc2f886",
   "metadata": {},
   "source": [
    "sort()와 argsort()"
   ]
  },
  {
   "cell_type": "code",
   "execution_count": 46,
   "id": "858cf510",
   "metadata": {},
   "outputs": [
    {
     "name": "stdout",
     "output_type": "stream",
     "text": [
      "원본 행렬: [3 1 9 5]\n",
      "np.sort() 결과: [1 3 5 9]\n",
      "np.sort() 후 원본: [3 1 9 5]\n",
      "ndarray.sort() 결과: None\n",
      "ndarray.sort() 후 원본: [1 3 5 9]\n"
     ]
    }
   ],
   "source": [
    "org_array = np.array([3, 1, 9, 5])\n",
    "print(f'원본 행렬: {org_array}')\n",
    "\n",
    "# np.sort()로 정렬\n",
    "sort_array1 = np.sort(org_array)\n",
    "print(f'np.sort() 결과: {sort_array1}')\n",
    "print(f'np.sort() 후 원본: {org_array}')\n",
    "\n",
    "# ndarray.sort()로 정렬\n",
    "sort_array2 = org_array.sort()\n",
    "print(f'ndarray.sort() 결과: {sort_array2}')\n",
    "print(f'ndarray.sort() 후 원본: {org_array}')"
   ]
  },
  {
   "cell_type": "code",
   "execution_count": 48,
   "id": "72ede8a3",
   "metadata": {},
   "outputs": [
    {
     "name": "stdout",
     "output_type": "stream",
     "text": [
      "내림차순 정렬: [9 5 3 1]\n"
     ]
    }
   ],
   "source": [
    "# 내림차순 정렬\n",
    "sort_array1_desc = np.sort(org_array)[::-1]\n",
    "print(f'내림차순 정렬: {sort_array1_desc}')"
   ]
  },
  {
   "cell_type": "code",
   "execution_count": 50,
   "id": "f071f1dc",
   "metadata": {},
   "outputs": [
    {
     "name": "stdout",
     "output_type": "stream",
     "text": [
      "row 방향으로 정렬:\n",
      " [[ 7  1]\n",
      " [ 8 12]]\n",
      "column 방향으로 정렬:\n",
      " [[ 8 12]\n",
      " [ 1  7]]\n"
     ]
    }
   ],
   "source": [
    "array2d = np.array([[8,12],\n",
    "                   [7,1]])\n",
    "\n",
    "sort_array2d_axis0 = np.sort(array2d, axis = 0)\n",
    "print(f'row 방향으로 정렬:\\n {sort_array2d_axis0}')\n",
    "\n",
    "sort_array2d_axis1 = np.sort(array2d, axis = 1)\n",
    "print(f'column 방향으로 정렬:\\n {sort_array2d_axis1}')"
   ]
  },
  {
   "cell_type": "markdown",
   "id": "b72894d4",
   "metadata": {},
   "source": [
    "정렬 행렬의 인덱스 반환"
   ]
  },
  {
   "cell_type": "code",
   "execution_count": 51,
   "id": "96ec9721",
   "metadata": {},
   "outputs": [
    {
     "name": "stdout",
     "output_type": "stream",
     "text": [
      "<class 'numpy.ndarray'>\n",
      "행렬 정렬 시 원본 행렬의 인덱스: [1 0 3 2]\n"
     ]
    }
   ],
   "source": [
    "org_array = np.array([3,1,9,5])\n",
    "sort_indices = np.argsort(org_array)\n",
    "print(type(sort_indices))\n",
    "print(f'행렬 정렬 시 원본 행렬의 인덱스: {sort_indices}')"
   ]
  },
  {
   "cell_type": "code",
   "execution_count": 52,
   "id": "e20a8870",
   "metadata": {},
   "outputs": [
    {
     "name": "stdout",
     "output_type": "stream",
     "text": [
      "행렬 내림차순 정렬시 원본 행렬의 인덱스: [2 3 0 1]\n"
     ]
    }
   ],
   "source": [
    "org_array = np.org_array = np.array([3,1,9,5])\n",
    "sort_indices_desc = np.argsort(org_array)[::-1]\n",
    "print(f'행렬 내림차순 정렬시 원본 행렬의 인덱스: {sort_indices_desc}')"
   ]
  },
  {
   "cell_type": "code",
   "execution_count": 53,
   "id": "267a7339",
   "metadata": {},
   "outputs": [
    {
     "name": "stdout",
     "output_type": "stream",
     "text": [
      "성적 오름차순 정렬 시 score_array의 인덱스: [0 2 4 1 3]\n",
      "성적 오름차순 정렬 시 score_array의 인덱스: ['John' 'Sarah' 'Samuel' 'Mike' 'Kate']\n"
     ]
    }
   ],
   "source": [
    "import numpy as np\n",
    "name_array = np.array(['John', 'Mike', 'Sarah', 'Kate', 'Samuel'])\n",
    "score_array = np.array([78, 95, 84, 98, 88])\n",
    "\n",
    "sort_indices_asc = np.argsort(score_array)\n",
    "print(f'성적 오름차순 정렬 시 score_array의 인덱스: {sort_indices_asc}')\n",
    "print(f'성적 오름차순 정렬 시 score_array의 인덱스: {name_array[sort_indices_asc]}')"
   ]
  },
  {
   "cell_type": "markdown",
   "id": "178e6245",
   "metadata": {},
   "source": [
    "행렬 내적\n"
   ]
  },
  {
   "cell_type": "code",
   "execution_count": 54,
   "id": "b92257b6",
   "metadata": {},
   "outputs": [
    {
     "name": "stdout",
     "output_type": "stream",
     "text": [
      "행렬 내적 결과:\n",
      " [[ 58  64]\n",
      " [139 154]]\n"
     ]
    }
   ],
   "source": [
    "A = np.array([[1,2,3],\n",
    "             [4,5,6]])\n",
    "B = np.array([[7,8],\n",
    "             [9,10],\n",
    "             [11,12]])\n",
    "\n",
    "dot_product = np.dot(A,B)\n",
    "print(f'행렬 내적 결과:\\n {dot_product}')"
   ]
  },
  {
   "cell_type": "code",
   "execution_count": 57,
   "id": "98004e19",
   "metadata": {},
   "outputs": [
    {
     "name": "stdout",
     "output_type": "stream",
     "text": [
      "np.transpose(A):\n",
      " [[1 3]\n",
      " [2 4]]\n",
      "A.T:\n",
      " [[1 3]\n",
      " [2 4]]\n"
     ]
    }
   ],
   "source": [
    "A = np.array([[1,2],\n",
    "             [3,4]])\n",
    "transpose_mat = np.transpose(A)\n",
    "print(f'np.transpose(A):\\n {transpose_mat}')\n",
    "print(f'A.T:\\n {A.T}')"
   ]
  },
  {
   "cell_type": "code",
   "execution_count": null,
   "id": "47a730c0",
   "metadata": {},
   "outputs": [],
   "source": []
  }
 ],
 "metadata": {
  "kernelspec": {
   "display_name": "Python 3 (ipykernel)",
   "language": "python",
   "name": "python3"
  },
  "language_info": {
   "codemirror_mode": {
    "name": "ipython",
    "version": 3
   },
   "file_extension": ".py",
   "mimetype": "text/x-python",
   "name": "python",
   "nbconvert_exporter": "python",
   "pygments_lexer": "ipython3",
   "version": "3.10.8"
  }
 },
 "nbformat": 4,
 "nbformat_minor": 5
}
