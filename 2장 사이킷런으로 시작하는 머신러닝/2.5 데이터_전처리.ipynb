{
 "cells": [
  {
   "cell_type": "markdown",
   "id": "485a3690",
   "metadata": {},
   "source": [
    "# 데이터 전처리(Preprocessing)\n",
    "- 데이터 클린징\n",
    "- 결손값 처리(Null, NaN 처리)\n",
    "- 데이터 인코딩(레이블, 원-핫 인코딩) => 머신러닝은 문자열을 허용하지 않아서 숫자값으로 변경해야함\n",
    "- 데이터 스케일링 => 방 갯수, 학교까지 거리, 지하철까지의 거리와 같이 다른 척도 값을 공통적인 척도로 변환\n",
    "- 이상치 제거 => 평균에서 동떨어진 값 해결\n",
    "- Feature 선택, 추출 및 가공"
   ]
  },
  {
   "cell_type": "markdown",
   "id": "71b6c06b",
   "metadata": {},
   "source": [
    "## 데이터 인코딩\n",
    "머신러닝 알고리즘은 문자열 데이터 속성을 입력받지 않으며 모든 데이터는 숫자형으로 표현되어야한다.\n",
    "문자형 카테고리의 속성은 모두 숫자값으로 변환/인코딩 되어야 합니다.\n",
    "\n",
    "- 레이블(Label) 인코딩\n",
    "- 원-핫(One-Hot) 인코딩\n",
    "\n",
    "### 레이블 인코딩\n",
    "[TV, 냉장고, 전자레인지, 컴퓨터, 선풍기, 믹서] => [0,1,4,5,3,2]\n",
    "\n",
    "※숫자로 변경되어서 크고 작고 같다와 같은 고유의 숫자 특징이 영향이 감\n",
    "=> 원-핫 인코딩\n",
    "\n",
    "### 원-핫 인코딩\n",
    "원-핫 인코딩은 피처 값의 유형에 따라 새로운 피처를 추가해 고유 값에 해당하는 칼럼에만 1을 표시하고 나머지 칼럼에는 0을 표시하는 방법입니다.\n",
    "\n",
    "[TV, 냉장고, 전자레인지, 컴퓨터, 선풍기, 믹서] => [0,1,4,5,3,2]\n",
    "\n",
    "6개의 고유값으로 구분되는 것이기에 6개의 칼럼(열)을 가지는데,\n",
    "\n",
    "- 원본 데이터 상품분류가 TV면 해당하는 열, 행에 1이고 나머지는 0이다.\n",
    "- 원본 데이터 상품분류가 믹서면 해당하는 열, 행에 1이고 나머지는 0이다.\n",
    "\n",
    "## sklearn\n",
    "### 레이블 인코딩\n",
    "- LabelEncoder 클래스\n",
    "- fit()과 transform()을 이용하여 변환\n",
    "\n",
    "### 원-핫 인코딩\n",
    "- OneHotEncoder 클래스\n",
    "- fit()과 transform()을 이용하여 변환. 인자로 2차원 ndarray 입력 필요. Sparse 배열 형태로 변환되므로 toarray()를 적용하여 다시 Dense 형태로 변환되어야 함\n",
    "- pd.get_dummies(DataFram)을 이용\n",
    "\n"
   ]
  },
  {
   "cell_type": "markdown",
   "id": "7007b4d9",
   "metadata": {},
   "source": [
    "<br>\n",
    "<br>\n",
    "\n",
    "# 데이터 인코딩\n",
    "## 레이블 인코딩(Label encoding)"
   ]
  },
  {
   "cell_type": "code",
   "execution_count": 13,
   "id": "a6ab2cd8",
   "metadata": {},
   "outputs": [
    {
     "name": "stdout",
     "output_type": "stream",
     "text": [
      "인코딩 변환값: [0 1 4 5 3 3 2 2]\n",
      "인코딩 클래스: ['TV' '냉장고' '믹서' '선풍기' '전자렌지' '컴퓨터']\n",
      "디코딩 원본 값: ['전자렌지' '컴퓨터' '믹서' 'TV' '냉장고' '냉장고' '선풍기' '선풍기']\n"
     ]
    }
   ],
   "source": [
    "from sklearn.preprocessing import LabelEncoder\n",
    "\n",
    "items=['TV','냉장고','전자렌지','컴퓨터','선풍기','선풍기','믹서','믹서']\n",
    "\n",
    "#LabelEncoder를 객체로 생성한 후, fit()과 transform()으로 label 인코딩 수행\n",
    "encoder = LabelEncoder()\n",
    "\n",
    "labels = encoder.fit_transform(items)\n",
    "#encoder.fit(items)\n",
    "#labels = encoder.transform(items)\n",
    "\n",
    "print('인코딩 변환값:',labels)\n",
    "print('인코딩 클래스:', encoder.classes_)\n",
    "print('디코딩 원본 값:', encoder.inverse_transform([4,5,2,0,1,1,3,3]))"
   ]
  },
  {
   "cell_type": "markdown",
   "id": "c130da61",
   "metadata": {},
   "source": [
    "### 원-핫 인코딩(One-Hot encoding)"
   ]
  },
  {
   "cell_type": "code",
   "execution_count": 11,
   "id": "59f8b762",
   "metadata": {
    "scrolled": true
   },
   "outputs": [
    {
     "name": "stdout",
     "output_type": "stream",
     "text": [
      "[['TV']\n",
      " ['냉장고']\n",
      " ['전자렌지']\n",
      " ['컴퓨터']\n",
      " ['선풍기']\n",
      " ['선풍기']\n",
      " ['믹서']\n",
      " ['믹서']]\n",
      "원-핫 인코딩 데이터\n",
      "[[1. 0. 0. 0. 0. 0.]\n",
      " [0. 1. 0. 0. 0. 0.]\n",
      " [0. 0. 0. 0. 1. 0.]\n",
      " [0. 0. 0. 0. 0. 1.]\n",
      " [0. 0. 0. 1. 0. 0.]\n",
      " [0. 0. 0. 1. 0. 0.]\n",
      " [0. 0. 1. 0. 0. 0.]\n",
      " [0. 0. 1. 0. 0. 0.]]\n",
      "원-핫 인코딩 데이터 차원\n",
      "(8, 6)\n"
     ]
    }
   ],
   "source": [
    "from sklearn.preprocessing import OneHotEncoder\n",
    "import numpy as np\n",
    "\n",
    "items=['TV','냉장고','전자렌지','컴퓨터','선풍기','선풍기','믹서','믹서']\n",
    "\n",
    "#2차원 ndarray로 변환한다.\n",
    "items = np.array(items).reshape(-1, 1)\n",
    "print(items)\n",
    "\n",
    "#원-핫 인코딩을 적용한다.\n",
    "oh_encoder = OneHotEncoder()\n",
    "oh_encoder.fit(items)\n",
    "oh_labels = oh_encoder.transform(items)\n",
    "\n",
    "#OneHotEncoder로 변환한 결과는 Sparse 행렬(희소 행렬)이므로 이를 Dense 행렬로 변환\n",
    "print('원-핫 인코딩 데이터')\n",
    "print(oh_labels.toarray())\n",
    "print('원-핫 인코딩 데이터 차원')\n",
    "print(oh_labels.shape)"
   ]
  },
  {
   "cell_type": "code",
   "execution_count": 15,
   "id": "adf8a42e",
   "metadata": {},
   "outputs": [
    {
     "data": {
      "text/html": [
       "<div>\n",
       "<style scoped>\n",
       "    .dataframe tbody tr th:only-of-type {\n",
       "        vertical-align: middle;\n",
       "    }\n",
       "\n",
       "    .dataframe tbody tr th {\n",
       "        vertical-align: top;\n",
       "    }\n",
       "\n",
       "    .dataframe thead th {\n",
       "        text-align: right;\n",
       "    }\n",
       "</style>\n",
       "<table border=\"1\" class=\"dataframe\">\n",
       "  <thead>\n",
       "    <tr style=\"text-align: right;\">\n",
       "      <th></th>\n",
       "      <th>item</th>\n",
       "    </tr>\n",
       "  </thead>\n",
       "  <tbody>\n",
       "    <tr>\n",
       "      <th>0</th>\n",
       "      <td>TV</td>\n",
       "    </tr>\n",
       "    <tr>\n",
       "      <th>1</th>\n",
       "      <td>냉장고</td>\n",
       "    </tr>\n",
       "    <tr>\n",
       "      <th>2</th>\n",
       "      <td>전자렌지</td>\n",
       "    </tr>\n",
       "    <tr>\n",
       "      <th>3</th>\n",
       "      <td>컴퓨터</td>\n",
       "    </tr>\n",
       "    <tr>\n",
       "      <th>4</th>\n",
       "      <td>선풍기</td>\n",
       "    </tr>\n",
       "    <tr>\n",
       "      <th>5</th>\n",
       "      <td>선풍기</td>\n",
       "    </tr>\n",
       "    <tr>\n",
       "      <th>6</th>\n",
       "      <td>믹서</td>\n",
       "    </tr>\n",
       "    <tr>\n",
       "      <th>7</th>\n",
       "      <td>믹서</td>\n",
       "    </tr>\n",
       "  </tbody>\n",
       "</table>\n",
       "</div>"
      ],
      "text/plain": [
       "   item\n",
       "0    TV\n",
       "1   냉장고\n",
       "2  전자렌지\n",
       "3   컴퓨터\n",
       "4   선풍기\n",
       "5   선풍기\n",
       "6    믹서\n",
       "7    믹서"
      ]
     },
     "execution_count": 15,
     "metadata": {},
     "output_type": "execute_result"
    }
   ],
   "source": [
    "#위의 코드를 짧게\n",
    "import pandas as pd\n",
    "df = pd.DataFrame({'item':['TV','냉장고','전자렌지','컴퓨터','선풍기','선풍기','믹서','믹서']})\n",
    "df"
   ]
  },
  {
   "cell_type": "code",
   "execution_count": 17,
   "id": "03e322a6",
   "metadata": {},
   "outputs": [
    {
     "data": {
      "text/html": [
       "<div>\n",
       "<style scoped>\n",
       "    .dataframe tbody tr th:only-of-type {\n",
       "        vertical-align: middle;\n",
       "    }\n",
       "\n",
       "    .dataframe tbody tr th {\n",
       "        vertical-align: top;\n",
       "    }\n",
       "\n",
       "    .dataframe thead th {\n",
       "        text-align: right;\n",
       "    }\n",
       "</style>\n",
       "<table border=\"1\" class=\"dataframe\">\n",
       "  <thead>\n",
       "    <tr style=\"text-align: right;\">\n",
       "      <th></th>\n",
       "      <th>item_TV</th>\n",
       "      <th>item_냉장고</th>\n",
       "      <th>item_믹서</th>\n",
       "      <th>item_선풍기</th>\n",
       "      <th>item_전자렌지</th>\n",
       "      <th>item_컴퓨터</th>\n",
       "    </tr>\n",
       "  </thead>\n",
       "  <tbody>\n",
       "    <tr>\n",
       "      <th>0</th>\n",
       "      <td>1</td>\n",
       "      <td>0</td>\n",
       "      <td>0</td>\n",
       "      <td>0</td>\n",
       "      <td>0</td>\n",
       "      <td>0</td>\n",
       "    </tr>\n",
       "    <tr>\n",
       "      <th>1</th>\n",
       "      <td>0</td>\n",
       "      <td>1</td>\n",
       "      <td>0</td>\n",
       "      <td>0</td>\n",
       "      <td>0</td>\n",
       "      <td>0</td>\n",
       "    </tr>\n",
       "    <tr>\n",
       "      <th>2</th>\n",
       "      <td>0</td>\n",
       "      <td>0</td>\n",
       "      <td>0</td>\n",
       "      <td>0</td>\n",
       "      <td>1</td>\n",
       "      <td>0</td>\n",
       "    </tr>\n",
       "    <tr>\n",
       "      <th>3</th>\n",
       "      <td>0</td>\n",
       "      <td>0</td>\n",
       "      <td>0</td>\n",
       "      <td>0</td>\n",
       "      <td>0</td>\n",
       "      <td>1</td>\n",
       "    </tr>\n",
       "    <tr>\n",
       "      <th>4</th>\n",
       "      <td>0</td>\n",
       "      <td>0</td>\n",
       "      <td>0</td>\n",
       "      <td>1</td>\n",
       "      <td>0</td>\n",
       "      <td>0</td>\n",
       "    </tr>\n",
       "    <tr>\n",
       "      <th>5</th>\n",
       "      <td>0</td>\n",
       "      <td>0</td>\n",
       "      <td>0</td>\n",
       "      <td>1</td>\n",
       "      <td>0</td>\n",
       "      <td>0</td>\n",
       "    </tr>\n",
       "    <tr>\n",
       "      <th>6</th>\n",
       "      <td>0</td>\n",
       "      <td>0</td>\n",
       "      <td>1</td>\n",
       "      <td>0</td>\n",
       "      <td>0</td>\n",
       "      <td>0</td>\n",
       "    </tr>\n",
       "    <tr>\n",
       "      <th>7</th>\n",
       "      <td>0</td>\n",
       "      <td>0</td>\n",
       "      <td>1</td>\n",
       "      <td>0</td>\n",
       "      <td>0</td>\n",
       "      <td>0</td>\n",
       "    </tr>\n",
       "  </tbody>\n",
       "</table>\n",
       "</div>"
      ],
      "text/plain": [
       "   item_TV  item_냉장고  item_믹서  item_선풍기  item_전자렌지  item_컴퓨터\n",
       "0        1         0        0         0          0         0\n",
       "1        0         1        0         0          0         0\n",
       "2        0         0        0         0          1         0\n",
       "3        0         0        0         0          0         1\n",
       "4        0         0        0         1          0         0\n",
       "5        0         0        0         1          0         0\n",
       "6        0         0        1         0          0         0\n",
       "7        0         0        1         0          0         0"
      ]
     },
     "execution_count": 17,
     "metadata": {},
     "output_type": "execute_result"
    }
   ],
   "source": [
    "pd.get_dummies(df)"
   ]
  },
  {
   "cell_type": "markdown",
   "id": "80d579ca",
   "metadata": {},
   "source": [
    "# 피처 스케일링\n",
    "## 표준화\n",
    "- 데이터의 피처 각각이 평균이 0이고 분산이 1인 가우시안 정규 분포를 가진 값으로 변환하는 것을 의미한다.<br>\n",
    "EX) 온도, 습도...<br>\n",
    "x_i_new = x_i - mean(x)/ stdeu(x)<br>\n",
    "[20,30,40] => [-1.22, 0, 1.22]<br>\n",
    "평균:30, 표준편차:8.16<br>\n",
    "<p style=\"font-weight:bold\">데이터 분포의 중심을 0으로(Zero-Centered)</p>\n",
    "\n",
    "\n",
    "## 정규화\n",
    "- 서로 다른 피처의 크기를 통일하기 위해 크기를 변환해주는 개념이다.<br>\n",
    "- 0~1에서 변환하기도하고 -1~1에서 변환하는데 이것은 0~1<br>\n",
    "EX) \n",
    "x_i_new = x_i - min(x)/ max(x) - min(x)<br>\n",
    "[20,30,40] => [0, 0.5, 1]<br>\n",
    "최소값:20, 최대값-최소값:20\n",
    "\n",
    "## sklearn\n",
    "- StandardScaler: 평균이 0이고, 분산이 1인 정규 분포 형태고 변환\n",
    "- MinMaxScaler: 데이터 값을 0과 1 사이의 범위 값으로 변환(음수 값이 있으면 -1에서 1 값으로 변환)\n",
    "\n",
    "※선형계열의 분류 알고리즘: LR, SUM은 값의 스케일링에 민감하고, 스케일링을 한다고해서 꼭 좋아지는 것은 아님<br>\n",
    "- Tree는 스케일링이 큰 영향이 없음<br>\n",
    "- 선형계열의 회귀 알고리즘 또한 그럼"
   ]
  },
  {
   "cell_type": "markdown",
   "id": "af340002",
   "metadata": {},
   "source": [
    "<br>\n",
    "<br>\n",
    "\n",
    "# 피처 스케일링과 정규화\n",
    "## StandardScaler"
   ]
  },
  {
   "cell_type": "code",
   "execution_count": 20,
   "id": "f2626eed",
   "metadata": {},
   "outputs": [
    {
     "name": "stdout",
     "output_type": "stream",
     "text": [
      "feature들의 평균 값\n",
      "sepal length (cm)    5.843333\n",
      "sepal width (cm)     3.057333\n",
      "petal length (cm)    3.758000\n",
      "petal width (cm)     1.199333\n",
      "dtype: float64\n",
      "\n",
      "feature들의 분산 값\n",
      "sepal length (cm)    0.685694\n",
      "sepal width (cm)     0.189979\n",
      "petal length (cm)    3.116278\n",
      "petal width (cm)     0.581006\n",
      "dtype: float64\n"
     ]
    }
   ],
   "source": [
    "from sklearn.datasets import load_iris\n",
    "import pandas as pd\n",
    "#붓꽃 데이터 셋을 로딩하고 DataFrame으로 변환\n",
    "iris = load_iris()\n",
    "iris_data = iris.data\n",
    "iris_df = pd.DataFrame(data=iris_data, columns=iris.feature_names)\n",
    "\n",
    "print('feature들의 평균 값')\n",
    "print(iris_df.mean())\n",
    "print('\\nfeature들의 분산 값')\n",
    "print(iris_df.var())"
   ]
  },
  {
   "cell_type": "code",
   "execution_count": 23,
   "id": "7d8543ea",
   "metadata": {},
   "outputs": [
    {
     "name": "stdout",
     "output_type": "stream",
     "text": [
      "feature들의 평균 값\n",
      "sepal length (cm)   -1.690315e-15\n",
      "sepal width (cm)    -1.842970e-15\n",
      "petal length (cm)   -1.698641e-15\n",
      "petal width (cm)    -1.409243e-15\n",
      "dtype: float64\n",
      "\n",
      "feature들의 분산 값\n",
      "sepal length (cm)    1.006711\n",
      "sepal width (cm)     1.006711\n",
      "petal length (cm)    1.006711\n",
      "petal width (cm)     1.006711\n",
      "dtype: float64\n"
     ]
    }
   ],
   "source": [
    "from sklearn.preprocessing import StandardScaler\n",
    "\n",
    "\n",
    "#StandardScaler 객체 생성\n",
    "scaler = StandardScaler()\n",
    "#StandardScaler로 데이터 셋 변환. fit()과 transform() 호출\n",
    "scaler.fit(iris_df)\n",
    "iris_scaled = scaler.transform(iris_df)\n",
    "\n",
    "#transform()시 scale 변환된 데이터 셋이 numpy ndarray로 변환되어 이를 DataFrame으로 변환\n",
    "iris_df_scaled = pd.DataFrame(data=iris_scaled, columns=iris.feature_names)\n",
    "print('feature들의 평균 값')\n",
    "print(iris_df_scaled.mean())\n",
    "print('\\nfeature들의 분산 값')\n",
    "print(iris_df_scaled.var())"
   ]
  },
  {
   "cell_type": "markdown",
   "id": "17e92f4a",
   "metadata": {},
   "source": [
    "## MinMaxScaler"
   ]
  },
  {
   "cell_type": "code",
   "execution_count": 29,
   "id": "5ef831aa",
   "metadata": {},
   "outputs": [
    {
     "name": "stdout",
     "output_type": "stream",
     "text": [
      "feature들의 평균 값\n",
      "sepal length (cm)    0.0\n",
      "sepal width (cm)     0.0\n",
      "petal length (cm)    0.0\n",
      "petal width (cm)     0.0\n",
      "dtype: float64\n",
      "\n",
      "feature들의 분산 값\n",
      "sepal length (cm)    1.0\n",
      "sepal width (cm)     1.0\n",
      "petal length (cm)    1.0\n",
      "petal width (cm)     1.0\n",
      "dtype: float64\n"
     ]
    }
   ],
   "source": [
    "from sklearn.preprocessing import MinMaxScaler\n",
    "\n",
    "#MinMaxScaler객체 생성\n",
    "scaler = MinMaxScaler()\n",
    "#MinMaxScaler로 데이터 셋 변환, fit()과 transform() 호출\n",
    "iris_scaled = scaler.fit_transform(iris_df)\n",
    "\n",
    "#transform()시에 scale 변환된 데이터 셋이 numpy ndarray로 변환되어 이를 DataFrame으로 변환\n",
    "iris_df_scaled = pd.DataFrame(data=iris_scaled, columns=iris.feature_names)\n",
    "\n",
    "print('feature들의 평균 값')\n",
    "print(iris_df_scaled.min())\n",
    "print('\\nfeature들의 분산 값')\n",
    "print(iris_df_scaled.max())"
   ]
  },
  {
   "cell_type": "markdown",
   "id": "69c3fca0",
   "metadata": {},
   "source": [
    "### Scaler를 이용하여 학습 데이터와 테스트 데이터에 fit(), transform(), fit_transform() 적용시 유의 사항\n",
    "- 학습 시킬때는 test set은 train set의 척도를 따라간다"
   ]
  },
  {
   "cell_type": "code",
   "execution_count": 30,
   "id": "ea82f5e1",
   "metadata": {},
   "outputs": [
    {
     "name": "stdout",
     "output_type": "stream",
     "text": [
      "원본 train_array : [ 0  1  2  3  4  5  6  7  8  9 10]\n",
      "Scale된 train_array : [0.  0.1 0.2 0.3 0.4 0.5 0.6 0.7 0.8 0.9 1. ]\n",
      "원본 test_array : [0 1 2 3 4 5]\n",
      "Scale된 test_array : [0.  0.2 0.4 0.6 0.8 1. ]\n"
     ]
    }
   ],
   "source": [
    "#잘못된 예시\n",
    "from sklearn.preprocessing import MinMaxScaler\n",
    "import numpy as np\n",
    "\n",
    "# 학습 데이터는 0부터 10까지, 테스트 데이터는 0부터 5까지 값을 가지는 데이터 세트로 생성\n",
    "# Scaler 클래스의 fit(), transform()은 2차원 이상 데이터만 가능,\n",
    "\n",
    "train_array = np.arange(0, 11).reshape(-1, 1)\n",
    "test_array = np.arange(0, 6).reshape(-1, 1)\n",
    "\n",
    "# MinMaxScaler 객체에 별도의 feature_range 파라미터 값을 지정하지 않으면 0~1 반환\n",
    "scaler = MinMaxScaler()\n",
    "\n",
    "# fit() 적용, train_array 데이터 최솟값:0, 최댓값: 10 설정\n",
    "scaler.fit(train_array)\n",
    "\n",
    "# 1/10 scale로 train_array 데이터 변홤. 원본 10->1\n",
    "train_scaled = scaler.transform(train_array)\n",
    "\n",
    "print('원본 train_array :', np.round(train_array.reshape(-1),2))\n",
    "print('Scale된 train_array :', np.round(train_scaled.reshape(-1),2))\n",
    "\n",
    "# MinMaxScaler에 test_array를 fit(), 최솟값 0, 최댓값 5 설정\n",
    "scaler.fit(test_array)\n",
    "\n",
    "# 1/5 scale로 test_array 데이터 변환. 원본 5 -> 1\n",
    "test_scaled = scaler.transform(test_array)\n",
    "\n",
    "# test_array의 scale 변환 출력\n",
    "print('원본 test_array :', np.round(test_array.reshape(-1),2))\n",
    "print('Scale된 test_array :', np.round(test_scaled.reshape(-1),2))"
   ]
  },
  {
   "cell_type": "code",
   "execution_count": 31,
   "id": "8126f1a2",
   "metadata": {},
   "outputs": [
    {
     "name": "stdout",
     "output_type": "stream",
     "text": [
      "원본 train_array : [ 0  1  2  3  4  5  6  7  8  9 10]\n",
      "Scale된 train_array : [0.  0.1 0.2 0.3 0.4 0.5 0.6 0.7 0.8 0.9 1. ]\n",
      "원본 test_array : [0 1 2 3 4 5]\n",
      "Scale된 test_array : [0.  0.1 0.2 0.3 0.4 0.5]\n"
     ]
    }
   ],
   "source": [
    "#같은 스케일 기준으로 정규화\n",
    "scaler = MinMaxScaler()\n",
    "\n",
    "scaler.fit(train_array)\n",
    "train_scaled = scaler.transform(train_array)\n",
    "print('원본 train_array :', np.round(train_array.reshape(-1),2))\n",
    "print('Scale된 train_array :', np.round(train_scaled.reshape(-1),2))\n",
    "\n",
    "test_scaled = scaler.transform(test_array)\n",
    "print('원본 test_array :', np.round(test_array.reshape(-1),2))\n",
    "print('Scale된 test_array :', np.round(test_scaled.reshape(-1),2))"
   ]
  }
 ],
 "metadata": {
  "kernelspec": {
   "display_name": "Python 3",
   "language": "python",
   "name": "python3"
  },
  "language_info": {
   "codemirror_mode": {
    "name": "ipython",
    "version": 3
   },
   "file_extension": ".py",
   "mimetype": "text/x-python",
   "name": "python",
   "nbconvert_exporter": "python",
   "pygments_lexer": "ipython3",
   "version": "3.8.8"
  }
 },
 "nbformat": 4,
 "nbformat_minor": 5
}
