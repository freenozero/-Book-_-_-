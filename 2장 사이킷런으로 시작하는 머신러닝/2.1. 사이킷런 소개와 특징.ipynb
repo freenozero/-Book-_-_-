{
 "cells": [
  {
   "cell_type": "markdown",
   "id": "3789745d",
   "metadata": {},
   "source": [
    "# 사이킷런 소개\n",
    "\n",
    "파이썬으로 머신러닝을 정형데이터 기반으로 만들 때 사용\n",
    "- 쉽고, 가장 파이썬스러운 API를 제공\n",
    "- 복잡한 머신러닝을 쉽게 구현 가능(편리한 프레임워크와 API 제공)\n",
    "- 오랜 기간 실전 환경에서 검증되었고, 매우 많은 환경에서 사용되는 라이브러리\n",
    "- 주로 Numpy와 scipy 위에서 구축된 라이브러리"
   ]
  },
  {
   "cell_type": "markdown",
   "id": "5598ab56",
   "metadata": {},
   "source": [
    "# 사이킷런을 이용한 붓꽃(Iris) 데이터 분류\n",
    "Classification을 사용한다.\n",
    "\n",
    "붓꽃 데이터 세트로 붓꽃의 품종을 분류한다.\n",
    "붓꽃 데이터 세트는 Sepal length, Sepal width, Petal lenth, Petal width을 기반으로\n",
    "꽃의 품종 Setosa, Versicolor, Virginica인지 예측한다."
   ]
  },
  {
   "cell_type": "markdown",
   "id": "26caa9cb",
   "metadata": {},
   "source": [
    "## 머신러닝을 위한 용어 정리\n",
    "### 피처(Featur) == 속성?\n",
    "\n",
    "피처는 데이터세트의 일반 속성이다.\n",
    "보통은 2차원 이상의 다차원 데이터에서도 많이 사용되므로 타겟값을 제외한 나머지 속성을 모두 피처로 지칭한다.\n",
    "\n",
    "즉, 꽃받침 길이, 꽃받침 너비, 꽃잎 길이, 꽃잎 너비이다.\n",
    "\n",
    "\n",
    "### 레이블, 클래스, 타겟(값), 결정(값)\n",
    "\n",
    "타겟값 또는 결정값은 지도 학습 시 데이터의 학습을 위해 주어지는 정답 데이터이다.\n",
    "지도 학습 중 분류의 경우에는 이 결정값을 레이블 또는 클래스로 지칭\n",
    "\n",
    "즉, 꽃의 품종이다."
   ]
  },
  {
   "cell_type": "markdown",
   "id": "c59f9e33",
   "metadata": {},
   "source": [
    "## 지도학습 - 분류\n",
    "지도학습은 학습데이터에서 다양한 피처와 분류 결정값인 레이블 데이터로 모델을 학습한 후,\n",
    "\n",
    "별도의 테스트 데이터 세트에서 피처를 주고, 미지의 레이블을 예측한다.\n",
    "\n",
    "### 붓꽃데이터 분류 예측 프로세스\n",
    "- 데이터 세트 분리: 데이터를 학습 데이터와 테스트 데이터로 분리한다.\n",
    "- 모델학습: 학습데이터를 기반으로 ML 알고리즘을 적용해 모델을 학습시킨다.\n",
    "- 예측 수행: 학습된 ML 모델을 이용해 테스트 데이터의 분류(붓꽃 종류)를 예측한다.\n",
    "- 평가: 예측된 결괏값과 테스트 데이터의 실제 결괏값을 비교해 ML 모델 성능을 평가한다."
   ]
  }
 ],
 "metadata": {
  "kernelspec": {
   "display_name": "Python 3",
   "language": "python",
   "name": "python3"
  },
  "language_info": {
   "codemirror_mode": {
    "name": "ipython",
    "version": 3
   },
   "file_extension": ".py",
   "mimetype": "text/x-python",
   "name": "python",
   "nbconvert_exporter": "python",
   "pygments_lexer": "ipython3",
   "version": "3.8.8"
  }
 },
 "nbformat": 4,
 "nbformat_minor": 5
}
